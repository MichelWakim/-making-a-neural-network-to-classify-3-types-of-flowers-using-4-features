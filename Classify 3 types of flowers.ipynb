{
  "nbformat": 4,
  "nbformat_minor": 0,
  "metadata": {
    "colab": {
      "name": "Lab_2_Ejust.ipynb",
      "provenance": [],
      "collapsed_sections": [],
      "include_colab_link": true
    },
    "kernelspec": {
      "name": "python3",
      "display_name": "Python 3"
    },
    "accelerator": "GPU"
  },
  "cells": [
    {
      "cell_type": "markdown",
      "metadata": {
        "id": "view-in-github",
        "colab_type": "text"
      },
      "source": [
        "<a href=\"https://colab.research.google.com/github/MichelWakim/-making-a-neural-network-to-classify-3-types-of-flowers-using-4-features/blob/main/Classify%203%20types%20of%20flowers.ipynb\" target=\"_parent\"><img src=\"https://colab.research.google.com/assets/colab-badge.svg\" alt=\"Open In Colab\"/></a>"
      ]
    },
    {
      "cell_type": "markdown",
      "metadata": {
        "id": "Hraps4kjUl4s"
      },
      "source": [
        "#making a neural network to classify 3 types of flowers using 4 features"
      ]
    },
    {
      "cell_type": "code",
      "metadata": {
        "id": "NwgRSFRQsWrK"
      },
      "source": [
        "import numpy as np\n",
        "from sklearn import datasets\n",
        "from sklearn.preprocessing import OneHotEncoder #then encoding for differing the output neurons"
      ],
      "execution_count": 1,
      "outputs": []
    },
    {
      "cell_type": "code",
      "metadata": {
        "id": "z0ITHI9XslcX"
      },
      "source": [
        "iris = datasets.load_iris() #loading the dataset\n",
        "#print(type.iris)"
      ],
      "execution_count": 2,
      "outputs": []
    },
    {
      "cell_type": "code",
      "metadata": {
        "id": "I5eI7PN_tF-s",
        "colab": {
          "base_uri": "https://localhost:8080/"
        },
        "outputId": "7bbd8654-dae9-4758-f3da-1a7612f5cf64"
      },
      "source": [
        "data = iris.data      #the data of the dataset\n",
        "labels = iris.target  #getting the dataset labels  \n",
        "print(data.shape)\n",
        "print(labels.shape)"
      ],
      "execution_count": 3,
      "outputs": [
        {
          "output_type": "stream",
          "text": [
            "(150, 4)\n",
            "(150,)\n"
          ],
          "name": "stdout"
        }
      ]
    },
    {
      "cell_type": "code",
      "metadata": {
        "id": "K8qc1NzvJ1dh",
        "colab": {
          "base_uri": "https://localhost:8080/"
        },
        "outputId": "0919a2f6-3794-4ba3-9506-2a950b7e1c83"
      },
      "source": [
        "print(data[:5])   #printing all the data till row five "
      ],
      "execution_count": 4,
      "outputs": [
        {
          "output_type": "stream",
          "text": [
            "[[5.1 3.5 1.4 0.2]\n",
            " [4.9 3.  1.4 0.2]\n",
            " [4.7 3.2 1.3 0.2]\n",
            " [4.6 3.1 1.5 0.2]\n",
            " [5.  3.6 1.4 0.2]]\n"
          ],
          "name": "stdout"
        }
      ]
    },
    {
      "cell_type": "code",
      "metadata": {
        "id": "rLp8c-U8MDvC",
        "colab": {
          "base_uri": "https://localhost:8080/"
        },
        "outputId": "8dfc1cdf-4b3e-4407-9d78-535cca3d9e59"
      },
      "source": [
        "encoder = OneHotEncoder()   #making a shortcut\n",
        "y = encoder.fit_transform(labels[:,None]).toarray() #transforming the  zero rank array to 1D array using [:,None]\n",
        "                                                      #encoding the labels in a form of an array\n",
        "print(y)"
      ],
      "execution_count": 5,
      "outputs": [
        {
          "output_type": "stream",
          "text": [
            "[[1. 0. 0.]\n",
            " [1. 0. 0.]\n",
            " [1. 0. 0.]\n",
            " [1. 0. 0.]\n",
            " [1. 0. 0.]\n",
            " [1. 0. 0.]\n",
            " [1. 0. 0.]\n",
            " [1. 0. 0.]\n",
            " [1. 0. 0.]\n",
            " [1. 0. 0.]\n",
            " [1. 0. 0.]\n",
            " [1. 0. 0.]\n",
            " [1. 0. 0.]\n",
            " [1. 0. 0.]\n",
            " [1. 0. 0.]\n",
            " [1. 0. 0.]\n",
            " [1. 0. 0.]\n",
            " [1. 0. 0.]\n",
            " [1. 0. 0.]\n",
            " [1. 0. 0.]\n",
            " [1. 0. 0.]\n",
            " [1. 0. 0.]\n",
            " [1. 0. 0.]\n",
            " [1. 0. 0.]\n",
            " [1. 0. 0.]\n",
            " [1. 0. 0.]\n",
            " [1. 0. 0.]\n",
            " [1. 0. 0.]\n",
            " [1. 0. 0.]\n",
            " [1. 0. 0.]\n",
            " [1. 0. 0.]\n",
            " [1. 0. 0.]\n",
            " [1. 0. 0.]\n",
            " [1. 0. 0.]\n",
            " [1. 0. 0.]\n",
            " [1. 0. 0.]\n",
            " [1. 0. 0.]\n",
            " [1. 0. 0.]\n",
            " [1. 0. 0.]\n",
            " [1. 0. 0.]\n",
            " [1. 0. 0.]\n",
            " [1. 0. 0.]\n",
            " [1. 0. 0.]\n",
            " [1. 0. 0.]\n",
            " [1. 0. 0.]\n",
            " [1. 0. 0.]\n",
            " [1. 0. 0.]\n",
            " [1. 0. 0.]\n",
            " [1. 0. 0.]\n",
            " [1. 0. 0.]\n",
            " [0. 1. 0.]\n",
            " [0. 1. 0.]\n",
            " [0. 1. 0.]\n",
            " [0. 1. 0.]\n",
            " [0. 1. 0.]\n",
            " [0. 1. 0.]\n",
            " [0. 1. 0.]\n",
            " [0. 1. 0.]\n",
            " [0. 1. 0.]\n",
            " [0. 1. 0.]\n",
            " [0. 1. 0.]\n",
            " [0. 1. 0.]\n",
            " [0. 1. 0.]\n",
            " [0. 1. 0.]\n",
            " [0. 1. 0.]\n",
            " [0. 1. 0.]\n",
            " [0. 1. 0.]\n",
            " [0. 1. 0.]\n",
            " [0. 1. 0.]\n",
            " [0. 1. 0.]\n",
            " [0. 1. 0.]\n",
            " [0. 1. 0.]\n",
            " [0. 1. 0.]\n",
            " [0. 1. 0.]\n",
            " [0. 1. 0.]\n",
            " [0. 1. 0.]\n",
            " [0. 1. 0.]\n",
            " [0. 1. 0.]\n",
            " [0. 1. 0.]\n",
            " [0. 1. 0.]\n",
            " [0. 1. 0.]\n",
            " [0. 1. 0.]\n",
            " [0. 1. 0.]\n",
            " [0. 1. 0.]\n",
            " [0. 1. 0.]\n",
            " [0. 1. 0.]\n",
            " [0. 1. 0.]\n",
            " [0. 1. 0.]\n",
            " [0. 1. 0.]\n",
            " [0. 1. 0.]\n",
            " [0. 1. 0.]\n",
            " [0. 1. 0.]\n",
            " [0. 1. 0.]\n",
            " [0. 1. 0.]\n",
            " [0. 1. 0.]\n",
            " [0. 1. 0.]\n",
            " [0. 1. 0.]\n",
            " [0. 1. 0.]\n",
            " [0. 1. 0.]\n",
            " [0. 1. 0.]\n",
            " [0. 0. 1.]\n",
            " [0. 0. 1.]\n",
            " [0. 0. 1.]\n",
            " [0. 0. 1.]\n",
            " [0. 0. 1.]\n",
            " [0. 0. 1.]\n",
            " [0. 0. 1.]\n",
            " [0. 0. 1.]\n",
            " [0. 0. 1.]\n",
            " [0. 0. 1.]\n",
            " [0. 0. 1.]\n",
            " [0. 0. 1.]\n",
            " [0. 0. 1.]\n",
            " [0. 0. 1.]\n",
            " [0. 0. 1.]\n",
            " [0. 0. 1.]\n",
            " [0. 0. 1.]\n",
            " [0. 0. 1.]\n",
            " [0. 0. 1.]\n",
            " [0. 0. 1.]\n",
            " [0. 0. 1.]\n",
            " [0. 0. 1.]\n",
            " [0. 0. 1.]\n",
            " [0. 0. 1.]\n",
            " [0. 0. 1.]\n",
            " [0. 0. 1.]\n",
            " [0. 0. 1.]\n",
            " [0. 0. 1.]\n",
            " [0. 0. 1.]\n",
            " [0. 0. 1.]\n",
            " [0. 0. 1.]\n",
            " [0. 0. 1.]\n",
            " [0. 0. 1.]\n",
            " [0. 0. 1.]\n",
            " [0. 0. 1.]\n",
            " [0. 0. 1.]\n",
            " [0. 0. 1.]\n",
            " [0. 0. 1.]\n",
            " [0. 0. 1.]\n",
            " [0. 0. 1.]\n",
            " [0. 0. 1.]\n",
            " [0. 0. 1.]\n",
            " [0. 0. 1.]\n",
            " [0. 0. 1.]\n",
            " [0. 0. 1.]\n",
            " [0. 0. 1.]\n",
            " [0. 0. 1.]\n",
            " [0. 0. 1.]\n",
            " [0. 0. 1.]\n",
            " [0. 0. 1.]]\n"
          ],
          "name": "stdout"
        }
      ]
    },
    {
      "cell_type": "code",
      "metadata": {
        "id": "3LQtBZ6SPSTu"
      },
      "source": [
        "from sklearn.model_selection import train_test_split"
      ],
      "execution_count": 6,
      "outputs": []
    },
    {
      "cell_type": "code",
      "metadata": {
        "id": "e2KjC4eXQM9m",
        "colab": {
          "base_uri": "https://localhost:8080/"
        },
        "outputId": "6ff428e2-a4db-4d51-e193-27a87aa4ee22"
      },
      "source": [
        "x_train, x_test, y_train, y_test = train_test_split(data, y, test_size=0.25)  #x is the data \n",
        "                                                                              #this function splits the dataset randomly to test data and train data\n",
        "print(x_train.shape)\n",
        "print(x_test.shape)\n",
        "print(y_train.shape)\n",
        "print(y_test.shape)"
      ],
      "execution_count": 7,
      "outputs": [
        {
          "output_type": "stream",
          "text": [
            "(112, 4)\n",
            "(38, 4)\n",
            "(112, 3)\n",
            "(38, 3)\n"
          ],
          "name": "stdout"
        }
      ]
    },
    {
      "cell_type": "markdown",
      "metadata": {
        "id": "jfx7k5VHWOhz"
      },
      "source": [
        "# `Building the NN`"
      ]
    },
    {
      "cell_type": "code",
      "metadata": {
        "id": "91cGTjftSC6m"
      },
      "source": [
        "from keras.models import Sequential #fror making the model in layers sequentially \n",
        "from keras.layers import Dense    #Dense is a layer in the NN"
      ],
      "execution_count": 8,
      "outputs": []
    },
    {
      "cell_type": "code",
      "metadata": {
        "id": "hQidJ6-LSDAJ",
        "colab": {
          "base_uri": "https://localhost:8080/"
        },
        "outputId": "3ae460eb-1b16-4110-fe5f-f323014ef7c2"
      },
      "source": [
        "classifier = Sequential()\n",
        "classifier.add(Dense(input_shape= (4,), units=8, activation='relu')) #relu is faster \n",
        "classifier.add(Dense(input_shape= (4,), units=8, activation='relu'))\n",
        "classifier.add(Dense(units= 3,activation='softmax'))    #softmax is better than the sigmoind in the big data\n",
        "classifier.summary()"
      ],
      "execution_count": 9,
      "outputs": [
        {
          "output_type": "stream",
          "text": [
            "Model: \"sequential\"\n",
            "_________________________________________________________________\n",
            "Layer (type)                 Output Shape              Param #   \n",
            "=================================================================\n",
            "dense (Dense)                (None, 8)                 40        \n",
            "_________________________________________________________________\n",
            "dense_1 (Dense)              (None, 8)                 72        \n",
            "_________________________________________________________________\n",
            "dense_2 (Dense)              (None, 3)                 27        \n",
            "=================================================================\n",
            "Total params: 139\n",
            "Trainable params: 139\n",
            "Non-trainable params: 0\n",
            "_________________________________________________________________\n"
          ],
          "name": "stdout"
        }
      ]
    },
    {
      "cell_type": "markdown",
      "metadata": {
        "id": "G62Lz7THbMgH"
      },
      "source": [
        "# `Training the model`"
      ]
    },
    {
      "cell_type": "code",
      "metadata": {
        "id": "4th1ZHD1ZaDF"
      },
      "source": [
        "from keras.optimizers import Adam\n",
        "adam=Adam(lr=0.05)  #adding the learning rate\n",
        "\n",
        "classifier.compile(loss='categorical_crossentropy',\n",
        "                   optimizer=adam,  #Ican change the opptimizer\n",
        "                   metrics=['accuracy']) #can changing the metrics"
      ],
      "execution_count": 10,
      "outputs": []
    },
    {
      "cell_type": "code",
      "metadata": {
        "id": "otSMyTNcbB-3",
        "colab": {
          "base_uri": "https://localhost:8080/"
        },
        "outputId": "8ac99657-3f81-4748-bdb2-906d9550fe45"
      },
      "source": [
        "history= classifier.fit(x_train, y_train,\n",
        "               epochs=25,\n",
        "               batch_size=10,)"
      ],
      "execution_count": 11,
      "outputs": [
        {
          "output_type": "stream",
          "text": [
            "Epoch 1/25\n",
            "12/12 [==============================] - 0s 3ms/step - loss: 0.9650 - accuracy: 0.5714\n",
            "Epoch 2/25\n",
            "12/12 [==============================] - 0s 3ms/step - loss: 0.6125 - accuracy: 0.7054\n",
            "Epoch 3/25\n",
            "12/12 [==============================] - 0s 2ms/step - loss: 0.5318 - accuracy: 0.7054\n",
            "Epoch 4/25\n",
            "12/12 [==============================] - 0s 2ms/step - loss: 0.5004 - accuracy: 0.7054\n",
            "Epoch 5/25\n",
            "12/12 [==============================] - 0s 2ms/step - loss: 0.4840 - accuracy: 0.7054\n",
            "Epoch 6/25\n",
            "12/12 [==============================] - 0s 2ms/step - loss: 0.4733 - accuracy: 0.7054\n",
            "Epoch 7/25\n",
            "12/12 [==============================] - 0s 2ms/step - loss: 0.4690 - accuracy: 0.7054\n",
            "Epoch 8/25\n",
            "12/12 [==============================] - 0s 2ms/step - loss: 0.4660 - accuracy: 0.7054\n",
            "Epoch 9/25\n",
            "12/12 [==============================] - 0s 2ms/step - loss: 0.4638 - accuracy: 0.7054\n",
            "Epoch 10/25\n",
            "12/12 [==============================] - 0s 2ms/step - loss: 0.4624 - accuracy: 0.7054\n",
            "Epoch 11/25\n",
            "12/12 [==============================] - 0s 2ms/step - loss: 0.4623 - accuracy: 0.7054\n",
            "Epoch 12/25\n",
            "12/12 [==============================] - 0s 2ms/step - loss: 0.4621 - accuracy: 0.7054\n",
            "Epoch 13/25\n",
            "12/12 [==============================] - 0s 2ms/step - loss: 0.4573 - accuracy: 0.7054\n",
            "Epoch 14/25\n",
            "12/12 [==============================] - 0s 2ms/step - loss: 0.4567 - accuracy: 0.7054\n",
            "Epoch 15/25\n",
            "12/12 [==============================] - 0s 2ms/step - loss: 0.4580 - accuracy: 0.7054\n",
            "Epoch 16/25\n",
            "12/12 [==============================] - 0s 2ms/step - loss: 0.4544 - accuracy: 0.7054\n",
            "Epoch 17/25\n",
            "12/12 [==============================] - 0s 2ms/step - loss: 0.4589 - accuracy: 0.6339\n",
            "Epoch 18/25\n",
            "12/12 [==============================] - 0s 3ms/step - loss: 0.4550 - accuracy: 0.7054\n",
            "Epoch 19/25\n",
            "12/12 [==============================] - 0s 2ms/step - loss: 0.4541 - accuracy: 0.7054\n",
            "Epoch 20/25\n",
            "12/12 [==============================] - 0s 3ms/step - loss: 0.4544 - accuracy: 0.7054\n",
            "Epoch 21/25\n",
            "12/12 [==============================] - 0s 3ms/step - loss: 0.4540 - accuracy: 0.7054\n",
            "Epoch 22/25\n",
            "12/12 [==============================] - 0s 3ms/step - loss: 0.4555 - accuracy: 0.7054\n",
            "Epoch 23/25\n",
            "12/12 [==============================] - 0s 3ms/step - loss: 0.4539 - accuracy: 0.7054\n",
            "Epoch 24/25\n",
            "12/12 [==============================] - 0s 2ms/step - loss: 0.4541 - accuracy: 0.7054\n",
            "Epoch 25/25\n",
            "12/12 [==============================] - 0s 2ms/step - loss: 0.4640 - accuracy: 0.7054\n"
          ],
          "name": "stdout"
        }
      ]
    },
    {
      "cell_type": "markdown",
      "metadata": {
        "id": "KmS1M4iEcCu0"
      },
      "source": [
        "Testing the NN"
      ]
    },
    {
      "cell_type": "code",
      "metadata": {
        "id": "xz3VUNhNcFjM",
        "colab": {
          "base_uri": "https://localhost:8080/"
        },
        "outputId": "9bf70237-9c4b-4eb2-da08-dd1773292fe9"
      },
      "source": [
        "score =classifier.evaluate(x_test,y_test)\n",
        "print(score)      #prints the loss , the accuracy"
      ],
      "execution_count": 12,
      "outputs": [
        {
          "output_type": "stream",
          "text": [
            "2/2 [==============================] - 0s 3ms/step - loss: 0.5576 - accuracy: 0.5526\n",
            "[0.5575864911079407, 0.5526315569877625]\n"
          ],
          "name": "stdout"
        }
      ]
    },
    {
      "cell_type": "code",
      "metadata": {
        "id": "xE14U277cmHB",
        "colab": {
          "base_uri": "https://localhost:8080/"
        },
        "outputId": "99744bfd-c2e9-42b8-8dac-a1b225db812d"
      },
      "source": [
        "print('Accuracy = {}%' .format(score[1]*100))"
      ],
      "execution_count": 13,
      "outputs": [
        {
          "output_type": "stream",
          "text": [
            "Accuracy = 55.263155698776245%\n"
          ],
          "name": "stdout"
        }
      ]
    }
  ]
}